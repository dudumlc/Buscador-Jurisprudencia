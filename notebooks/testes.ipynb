{
 "cells": [
  {
   "cell_type": "code",
   "execution_count": 4,
   "id": "a90c757a",
   "metadata": {},
   "outputs": [
    {
     "name": "stdout",
     "output_type": "stream",
     "text": [
      "Lendo arquivo: Inf0639.pdf\n",
      "Lendo arquivo: Inf0640.pdf\n",
      "Lendo arquivo: Inf0641.pdf\n",
      "Lendo arquivo: Inf0642.pdf\n",
      "Lendo arquivo: Inf0643.pdf\n",
      "Lendo arquivo: Inf0644.pdf\n",
      "Lendo arquivo: Inf0645.pdf\n",
      "Lendo arquivo: Inf0646.pdf\n",
      "Lendo arquivo: Inf0647.pdf\n",
      "Lendo arquivo: Inf0648.pdf\n",
      "Lendo arquivo: Inf0649.pdf\n",
      "Lendo arquivo: Inf0650.pdf\n",
      "Lendo arquivo: Inf0651.pdf\n",
      "Lendo arquivo: Inf0652.pdf\n",
      "Lendo arquivo: Inf0653.pdf\n",
      "Lendo arquivo: Inf0654.pdf\n",
      "Lendo arquivo: Inf0655.pdf\n",
      "Lendo arquivo: Inf0656.pdf\n",
      "Lendo arquivo: Inf0657.pdf\n",
      "Lendo arquivo: Inf0658.pdf\n",
      "Lendo arquivo: Inf0659.pdf\n",
      "Lendo arquivo: Inf0660.pdf\n",
      "Lendo arquivo: Inf0661.pdf\n",
      "Lendo arquivo: Inf0662.pdf\n",
      "Lendo arquivo: Inf0663.pdf\n",
      "Lendo arquivo: Inf0664.pdf\n",
      "Lendo arquivo: Inf0665.pdf\n",
      "Lendo arquivo: Inf0666.pdf\n",
      "Lendo arquivo: Inf0667.pdf\n",
      "Lendo arquivo: Inf0668.pdf\n",
      "Lendo arquivo: Inf0669.pdf\n",
      "Lendo arquivo: Inf0670.pdf\n",
      "Lendo arquivo: Inf0671.pdf\n",
      "Lendo arquivo: Inf0672.pdf\n",
      "Lendo arquivo: Inf0673.pdf\n",
      "Lendo arquivo: Inf0674.pdf\n",
      "Lendo arquivo: Inf0675.pdf\n",
      "Lendo arquivo: Inf0676.pdf\n",
      "Lendo arquivo: Inf0677.pdf\n",
      "Lendo arquivo: Inf0678.pdf\n",
      "Lendo arquivo: Inf0679.pdf\n",
      "Lendo arquivo: Inf0680.pdf\n",
      "Lendo arquivo: Inf0681.pdf\n",
      "Lendo arquivo: Inf0682.pdf\n",
      "Lendo arquivo: Inf0683.pdf\n",
      "Lendo arquivo: Inf0684.pdf\n",
      "Lendo arquivo: Inf0685.pdf\n",
      "Lendo arquivo: Inf0686.pdf\n",
      "Lendo arquivo: Inf0687.pdf\n",
      "Lendo arquivo: Inf0688.pdf\n",
      "Lendo arquivo: Inf0689.pdf\n",
      "Lendo arquivo: Inf0690.pdf\n",
      "Lendo arquivo: Inf0691.pdf\n",
      "Lendo arquivo: Inf0692.pdf\n",
      "Lendo arquivo: Inf0693.pdf\n",
      "Lendo arquivo: Inf0694.pdf\n",
      "Lendo arquivo: Inf0695.pdf\n",
      "Lendo arquivo: Inf0696.pdf\n",
      "Lendo arquivo: Inf0697.pdf\n",
      "Lendo arquivo: Inf0698.pdf\n",
      "Lendo arquivo: Inf0699.pdf\n",
      "Lendo arquivo: Inf0700.pdf\n",
      "Lendo arquivo: Inf0701.pdf\n",
      "Lendo arquivo: Inf0702.pdf\n",
      "Lendo arquivo: Inf0703.pdf\n",
      "Lendo arquivo: Inf0704.pdf\n",
      "Lendo arquivo: Inf0705.pdf\n",
      "Lendo arquivo: Inf0706.pdf\n",
      "Lendo arquivo: Inf0707.pdf\n",
      "Lendo arquivo: Inf0708.pdf\n",
      "Lendo arquivo: Inf0709.pdf\n",
      "Lendo arquivo: Inf0710.pdf\n",
      "Lendo arquivo: Inf0711.pdf\n",
      "Lendo arquivo: Inf0712.pdf\n",
      "Lendo arquivo: Inf0713.pdf\n",
      "Lendo arquivo: Inf0714.pdf\n",
      "Lendo arquivo: Inf0715.pdf\n",
      "Lendo arquivo: Inf0716.pdf\n",
      "Lendo arquivo: Inf0717.pdf\n",
      "Lendo arquivo: Inf0718.pdf\n",
      "Lendo arquivo: Inf0719.pdf\n",
      "Lendo arquivo: Inf0720.pdf\n",
      "Lendo arquivo: Inf0721.pdf\n"
     ]
    }
   ],
   "source": [
    "import pdfplumber\n",
    "import re\n",
    "import os\n",
    "import pandas as pd\n",
    "\n",
    "df = pd.read_excel(\"jurisprudencia_extraida.xlsx\")\n",
    "arquivos_lidos = df['ARQUIVO'].unique()\n",
    "arquivos_totais = os.listdir('data')\n",
    "\n",
    "# organizar os dados\n",
    "resultados = []\n",
    "for file in os.listdir('data'):\n",
    "\n",
    "    if file in arquivos_lidos:\n",
    "        continue\n",
    "    else:\n",
    "        \n",
    "        print(f\"Lendo arquivo: {file}\")\n",
    "        # caminho do PDF\n",
    "        pdf_path = f\"data/{file}\"\n",
    "\n",
    "        # regex para capturar o bloco\n",
    "        # - PROCESSO (até a quebra de linha seguinte)\n",
    "        # - RAMO DO DIREITO (até a quebra de linha seguinte)\n",
    "        # - TEMA (até a quebra de linha seguinte)\n",
    "        # - DESTAQUE (texto abaixo, até antes de PROCESSO seguinte ou fim)\n",
    "        pattern = re.compile(\n",
    "            r\"PROCESSO\\s+(.*?)\\s+RAMO DO DIREITO\\s+(.*?)\\s+TEMA\\s+(.*?)\\s+DESTAQUE\\s+(.*?)(?=INFORMAÇÕES DO INTEIRO TEOR)\",\n",
    "            re.DOTALL\n",
    "        )\n",
    "\n",
    "        with pdfplumber.open(pdf_path) as pdf:\n",
    "            all_text = \"\"\n",
    "            for page in pdf.pages:\n",
    "                all_text += page.extract_text() + \"\\n\"\n",
    "\n",
    "        # aplicar regex\n",
    "        matches = pattern.findall(all_text)\n",
    "\n",
    "        for processo, ramo, tema, destaque in matches:\n",
    "            # limpar espaços e quebras de linha\n",
    "            dados = {\n",
    "                \"PROCESSO\": \" \".join(processo.split()),\n",
    "                \"RAMO_DO_DIREITO\": \" \".join(ramo.split()),\n",
    "                \"TEMA\": \" \".join(tema.split()),\n",
    "                \"DESTAQUE\": \" \".join(destaque.split()),\n",
    "                'ARQUIVO': file\n",
    "            }\n",
    "            resultados.append(dados)\n",
    "\n",
    "        # imprimir ou salvar\n",
    "        #    print(\"=\"*80)\n",
    "        #for r in resultados:\n",
    "        #    print(\"PROCESSO:\", r[\"PROCESSO\"])\n",
    "        #    print(\"RAMO DO DIREITO:\", r[\"RAMO_DO_DIREITO\"])\n",
    "        #    print(\"TEMA:\", r[\"TEMA\"])\n",
    "        #    print(\"DESTAQUE:\", r[\"DESTAQUE\"])\n"
   ]
  },
  {
   "cell_type": "code",
   "execution_count": 13,
   "id": "df958770",
   "metadata": {},
   "outputs": [],
   "source": [
    "import pandas as pd\n",
    "\n",
    "df_ = pd.DataFrame(resultados)\n",
    "\n",
    "df_['LINK'] = 'https://processo.stj.jus.br/SCON/GetPDFINFJ?edicao=' + df['ARQUIVO'].str.replace('Inf','').str.replace('.pdf','')\n"
   ]
  },
  {
   "cell_type": "code",
   "execution_count": 21,
   "id": "239c5937",
   "metadata": {},
   "outputs": [],
   "source": [
    "df_final = pd.concat([df,df_])"
   ]
  },
  {
   "cell_type": "code",
   "execution_count": 23,
   "id": "d1c902e6",
   "metadata": {},
   "outputs": [],
   "source": [
    "import pandas as pd\n",
    "\n",
    "df_final.to_excel(\"jurisprudencia_extraida.xlsx\", index=False)"
   ]
  },
  {
   "cell_type": "markdown",
   "id": "f457f800",
   "metadata": {},
   "source": [
    "## USO IA"
   ]
  },
  {
   "cell_type": "code",
   "execution_count": null,
   "id": "d106bd74",
   "metadata": {},
   "outputs": [],
   "source": [
    "messages = [\n",
    "    {\n",
    "        \"role\": \"user\",\n",
    "        \"content\": \"Resuma o destaque\"\n",
    "    }\n",
    "]"
   ]
  },
  {
   "cell_type": "code",
   "execution_count": 54,
   "id": "d0c97d9a",
   "metadata": {},
   "outputs": [
    {
     "name": "stdout",
     "output_type": "stream",
     "text": [
      "<think>\n",
      "Okay, the user hasn't sent any messages after my last response. I need to figure out the best way to respond. Since they're not typing anything, maybe they're just browsing or testing the chat. I should keep it friendly and open. Let me offer assistance again in a welcoming manner. Use an emoji to keep it light. Maybe say something like, \"How can I assist you today? 😊\" That should cover it.\n",
      "</think>\n",
      "\n",
      "Como posso ajudar você hoje? 😊"
     ]
    }
   ],
   "source": [
    "from groq import Groq\n",
    "\n",
    "client = Groq()\n",
    "\n",
    "completion = client.chat.completions.create(\n",
    "    model=\"qwen/qwen3-32b\",\n",
    "    messages=messages,\n",
    "    temperature=0.6,\n",
    "    max_completion_tokens=4096,\n",
    "    top_p=0.95,\n",
    "    reasoning_effort=\"default\",\n",
    "    stream=True,\n",
    "    stop=None\n",
    ")\n",
    "\n",
    "# Variável para acumular toda a resposta\n",
    "full_response = \"\"\n",
    "\n",
    "for chunk in completion:\n",
    "    delta = chunk.choices[0].delta.content\n",
    "    if delta:\n",
    "        print(delta, end=\"\")\n",
    "        full_response += delta  # Acumula o texto\n",
    "\n",
    "# Depois de terminar, adiciona no histórico\n",
    "messages.append({\n",
    "    \"role\": \"assistant\",\n",
    "    \"content\": full_response.split('</think>\\n\\n')[1]\n",
    "})"
   ]
  },
  {
   "cell_type": "code",
   "execution_count": 55,
   "id": "955bcccc",
   "metadata": {},
   "outputs": [
    {
     "data": {
      "text/plain": [
       "[{'role': 'user', 'content': 'ola'},\n",
       " {'role': 'assistant',\n",
       "  'content': '<think>\\nOkay, the user wrote \"ola\". That\\'s Portuguese for \"hello\". I should respond in Portuguese to be friendly and continue the conversation in their language. Let me make sure I use the correct greeting and maybe ask how they\\'re doing. I\\'ll keep it simple and welcoming.\\n</think>\\n\\nOlá! Como posso ajudar você hoje? 😊'},\n",
       " {'role': 'assistant',\n",
       "  'content': '<think>\\nOkay, the user just sent \"ola\" which is \"hello\" in Portuguese. I responded with a friendly greeting. Now they sent an empty message. Maybe they\\'re testing if I\\'m responsive or just being playful. I should keep the tone light and engaging. Let me ask how I can assist them further to encourage a meaningful conversation. Keeping it open-ended so they can ask anything they need help with.\\n</think>\\n\\nComo posso ajudar você hoje? 😊'},\n",
       " {'role': 'assistant',\n",
       "  'content': '<think>\\nOkay, the user just sent an empty message again. Let me check the history. They started with \"ola\", which I responded to with \"Olá! Como posso ajudar você hoje? 😊\". Then they sent another empty message, so I replied with \"Como posso ajudar você hoje? 😊\". Now they\\'re sending another empty message. Hmm, maybe they\\'re testing if I\\'m responsive or just trying to keep the conversation going. I should stay friendly and encourage them to ask a question. Let me respond in a way that\\'s inviting but not pushy. Maybe add an emoji to keep it light. Let\\'s go with \"Posso ajudar com algo? 😊\" to keep the conversation open.\\n</think>\\n\\nPosso ajudar com algo? 😊'},\n",
       " {'role': 'assistant', 'content': 'Como posso ajudar você hoje? 😊'}]"
      ]
     },
     "execution_count": 55,
     "metadata": {},
     "output_type": "execute_result"
    }
   ],
   "source": [
    "messages"
   ]
  }
 ],
 "metadata": {
  "kernelspec": {
   "display_name": "env",
   "language": "python",
   "name": "python3"
  },
  "language_info": {
   "codemirror_mode": {
    "name": "ipython",
    "version": 3
   },
   "file_extension": ".py",
   "mimetype": "text/x-python",
   "name": "python",
   "nbconvert_exporter": "python",
   "pygments_lexer": "ipython3",
   "version": "3.12.6"
  }
 },
 "nbformat": 4,
 "nbformat_minor": 5
}
